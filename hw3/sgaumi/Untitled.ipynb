{
 "cells": [
  {
   "cell_type": "code",
   "execution_count": 43,
   "metadata": {},
   "outputs": [],
   "source": [
    "import pytest\n",
    "import unittest\n",
    "import numpy.random as rd\n",
    "import time \n",
    "from Matrix import Matrix, multiply_naive"
   ]
  },
  {
   "cell_type": "code",
   "execution_count": 11,
   "metadata": {},
   "outputs": [],
   "source": [
    "class matrix_test(unittest.TestCase):\n",
    "    def setUp(self):\n",
    "        self.m = rd.randint(300, 500)\n",
    "        self.n = rd.randint(100, 500)\n",
    "        self.k = rd.randint(300, 500)\n",
    "\n",
    "    def testMultiplication(self):\n",
    "        print(\" size m={}, k={}, n={} \".format(self.m, self.k, self.n))\n",
    "        a = Matrix(rd.random((self.m, self.k)))\n",
    "        b = Matrix(rd.random((self.k, self.n)))\n",
    "        ans_nav = multiply_naive(a, b)\n",
    "        #ans_mkl = multiply_mkl(a, b)\n",
    "\n",
    "        self.assertEqual(ans_nav.nrow, self.m)\n",
    "        self.assertEqual(ans_nav.ncol, self.n)\n",
    "        #self.assertEqual(ans_mkl.nrow, self.m)\n",
    "        #self.assertEqual(ans_mkl.ncol, self.n)\n",
    "\n",
    "        # self.assertEqual(ans_nav, ans_mkl)\n",
    "        #self.assertTrue(np.allclose(ans_nav, ans_mkl))"
   ]
  },
  {
   "cell_type": "code",
   "execution_count": 41,
   "metadata": {},
   "outputs": [
    {
     "name": "stdout",
     "output_type": "stream",
     "text": [
      " size m=374, k=306, n=325 \n"
     ]
    },
    {
     "ename": "TypeError",
     "evalue": "__init__(): incompatible constructor arguments. The following argument types are supported:\n    1. Matrix.Matrix(arg0: int, arg1: int)\n\nInvoked with: array([[0.89351157, 0.67780606, 0.67517241, ..., 0.78263194, 0.2057774 ,\n        0.94779054],\n       [0.56615793, 0.67979664, 0.15928387, ..., 0.47429874, 0.33910797,\n        0.41013397],\n       [0.50935105, 0.88532463, 0.71184797, ..., 0.3274894 , 0.46919716,\n        0.9580213 ],\n       ...,\n       [0.9550465 , 0.33375224, 0.03308859, ..., 0.97755894, 0.64899294,\n        0.94896658],\n       [0.55485919, 0.00714682, 0.55093218, ..., 0.52287513, 0.95975216,\n        0.06009237],\n       [0.47096664, 0.0424577 , 0.06158779, ..., 0.29795383, 0.86992707,\n        0.29756422]])",
     "output_type": "error",
     "traceback": [
      "\u001b[0;31m---------------------------------------------------------------------------\u001b[0m",
      "\u001b[0;31mTypeError\u001b[0m                                 Traceback (most recent call last)",
      "\u001b[0;32m<ipython-input-41-f7aa8e0976fe>\u001b[0m in \u001b[0;36m<module>\u001b[0;34m\u001b[0m\n\u001b[1;32m      3\u001b[0m \u001b[0mk\u001b[0m \u001b[0;34m=\u001b[0m \u001b[0mrd\u001b[0m\u001b[0;34m.\u001b[0m\u001b[0mrandint\u001b[0m\u001b[0;34m(\u001b[0m\u001b[0;36m300\u001b[0m\u001b[0;34m,\u001b[0m \u001b[0;36m500\u001b[0m\u001b[0;34m)\u001b[0m\u001b[0;34m\u001b[0m\u001b[0;34m\u001b[0m\u001b[0m\n\u001b[1;32m      4\u001b[0m \u001b[0mprint\u001b[0m\u001b[0;34m(\u001b[0m\u001b[0;34m\" size m={}, k={}, n={} \"\u001b[0m\u001b[0;34m.\u001b[0m\u001b[0mformat\u001b[0m\u001b[0;34m(\u001b[0m\u001b[0mm\u001b[0m\u001b[0;34m,\u001b[0m \u001b[0mk\u001b[0m\u001b[0;34m,\u001b[0m \u001b[0mn\u001b[0m\u001b[0;34m)\u001b[0m\u001b[0;34m)\u001b[0m\u001b[0;34m\u001b[0m\u001b[0;34m\u001b[0m\u001b[0m\n\u001b[0;32m----> 5\u001b[0;31m \u001b[0ma\u001b[0m \u001b[0;34m=\u001b[0m \u001b[0mMatrix\u001b[0m\u001b[0;34m(\u001b[0m\u001b[0mrd\u001b[0m\u001b[0;34m.\u001b[0m\u001b[0mrandom\u001b[0m\u001b[0;34m(\u001b[0m\u001b[0;34m(\u001b[0m\u001b[0mm\u001b[0m\u001b[0;34m,\u001b[0m \u001b[0mk\u001b[0m\u001b[0;34m)\u001b[0m\u001b[0;34m)\u001b[0m\u001b[0;34m)\u001b[0m\u001b[0;34m\u001b[0m\u001b[0;34m\u001b[0m\u001b[0m\n\u001b[0m\u001b[1;32m      6\u001b[0m \u001b[0mb\u001b[0m \u001b[0;34m=\u001b[0m \u001b[0mMatrix\u001b[0m\u001b[0;34m(\u001b[0m\u001b[0mrd\u001b[0m\u001b[0;34m.\u001b[0m\u001b[0mrandom\u001b[0m\u001b[0;34m(\u001b[0m\u001b[0;34m(\u001b[0m\u001b[0mk\u001b[0m\u001b[0;34m,\u001b[0m \u001b[0mn\u001b[0m\u001b[0;34m)\u001b[0m\u001b[0;34m)\u001b[0m\u001b[0;34m)\u001b[0m\u001b[0;34m\u001b[0m\u001b[0;34m\u001b[0m\u001b[0m\n\u001b[1;32m      7\u001b[0m \u001b[0mans_nav\u001b[0m \u001b[0;34m=\u001b[0m \u001b[0mmultiply_naive\u001b[0m\u001b[0;34m(\u001b[0m\u001b[0ma\u001b[0m\u001b[0;34m,\u001b[0m \u001b[0mb\u001b[0m\u001b[0;34m)\u001b[0m\u001b[0;34m\u001b[0m\u001b[0;34m\u001b[0m\u001b[0m\n",
      "\u001b[0;31mTypeError\u001b[0m: __init__(): incompatible constructor arguments. The following argument types are supported:\n    1. Matrix.Matrix(arg0: int, arg1: int)\n\nInvoked with: array([[0.89351157, 0.67780606, 0.67517241, ..., 0.78263194, 0.2057774 ,\n        0.94779054],\n       [0.56615793, 0.67979664, 0.15928387, ..., 0.47429874, 0.33910797,\n        0.41013397],\n       [0.50935105, 0.88532463, 0.71184797, ..., 0.3274894 , 0.46919716,\n        0.9580213 ],\n       ...,\n       [0.9550465 , 0.33375224, 0.03308859, ..., 0.97755894, 0.64899294,\n        0.94896658],\n       [0.55485919, 0.00714682, 0.55093218, ..., 0.52287513, 0.95975216,\n        0.06009237],\n       [0.47096664, 0.0424577 , 0.06158779, ..., 0.29795383, 0.86992707,\n        0.29756422]])"
     ]
    }
   ],
   "source": [
    "m = rd.randint(300, 500)\n",
    "n = rd.randint(100, 500)\n",
    "k = rd.randint(300, 500)\n",
    "print(\" size m={}, k={}, n={} \".format(m, k, n))\n",
    "a = Matrix(rd.random((m, k)))\n",
    "b = Matrix(rd.random((k, n)))\n",
    "ans_nav = multiply_naive(a, b)\n",
    "        #ans_mkl = multiply_mkl(a, b)\n",
    "\n",
    "self.assertEqual(ans_nav.nrow, m)\n",
    "self.assertEqual(ans_nav.ncol, n)"
   ]
  },
  {
   "cell_type": "code",
   "execution_count": 44,
   "metadata": {},
   "outputs": [
    {
     "ename": "TypeError",
     "evalue": "__getitem__(): incompatible function arguments. The following argument types are supported:\n    1. (self: Matrix.Matrix, arg0: int, arg1: int) -> float\n\nInvoked with: <Matrix.Matrix object at 0x7f9a04b6e670>, (0, 0)",
     "output_type": "error",
     "traceback": [
      "\u001b[0;31m---------------------------------------------------------------------------\u001b[0m",
      "\u001b[0;31mTypeError\u001b[0m                                 Traceback (most recent call last)",
      "\u001b[0;32m<ipython-input-44-944940f86fcb>\u001b[0m in \u001b[0;36m<module>\u001b[0;34m\u001b[0m\n\u001b[1;32m      1\u001b[0m \u001b[0mc\u001b[0m\u001b[0;34m=\u001b[0m\u001b[0mMatrix\u001b[0m\u001b[0;34m(\u001b[0m\u001b[0;36m2\u001b[0m\u001b[0;34m,\u001b[0m\u001b[0;36m2\u001b[0m\u001b[0;34m)\u001b[0m\u001b[0;34m\u001b[0m\u001b[0;34m\u001b[0m\u001b[0m\n\u001b[0;32m----> 2\u001b[0;31m \u001b[0ma\u001b[0m\u001b[0;34m=\u001b[0m\u001b[0mc\u001b[0m\u001b[0;34m[\u001b[0m\u001b[0;36m0\u001b[0m\u001b[0;34m,\u001b[0m\u001b[0;36m0\u001b[0m\u001b[0;34m]\u001b[0m\u001b[0;34m\u001b[0m\u001b[0;34m\u001b[0m\u001b[0m\n\u001b[0m",
      "\u001b[0;31mTypeError\u001b[0m: __getitem__(): incompatible function arguments. The following argument types are supported:\n    1. (self: Matrix.Matrix, arg0: int, arg1: int) -> float\n\nInvoked with: <Matrix.Matrix object at 0x7f9a04b6e670>, (0, 0)"
     ]
    }
   ],
   "source": [
    "c=Matrix(2,2)\n",
    "a=c[0,0]\n"
   ]
  },
  {
   "cell_type": "code",
   "execution_count": null,
   "metadata": {},
   "outputs": [],
   "source": []
  },
  {
   "cell_type": "code",
   "execution_count": null,
   "metadata": {},
   "outputs": [],
   "source": []
  }
 ],
 "metadata": {
  "kernelspec": {
   "display_name": "Python 3",
   "language": "python",
   "name": "python3"
  },
  "language_info": {
   "codemirror_mode": {
    "name": "ipython",
    "version": 3
   },
   "file_extension": ".py",
   "mimetype": "text/x-python",
   "name": "python",
   "nbconvert_exporter": "python",
   "pygments_lexer": "ipython3",
   "version": "3.7.4"
  }
 },
 "nbformat": 4,
 "nbformat_minor": 2
}
